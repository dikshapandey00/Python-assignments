{
 "cells": [
  {
   "cell_type": "code",
   "execution_count": 2,
   "id": "678fa3a0-58c5-4342-81ed-fc2b2930fcb4",
   "metadata": {},
   "outputs": [
    {
     "name": "stdout",
     "output_type": "stream",
     "text": [
      "sum =  10 difference =  6 product =  16 quotient =  4.0\n"
     ]
    }
   ],
   "source": [
    "# 1. Calculate the sum, difference, product, and quotient of two numbers.\n",
    "\n",
    "a = 8\n",
    "b = 2\n",
    "sum_of_ab = a  + b\n",
    "diff_of_ab = a - b\n",
    "product_of_ab = a * b\n",
    "quotient_of_ab = a / b\n",
    "\n",
    "print(\"sum = \", sum_of_ab,\"difference = \", diff_of_ab, \"product = \", product_of_ab, \"quotient = \", quotient_of_ab)"
   ]
  },
  {
   "cell_type": "code",
   "execution_count": 3,
   "id": "21a1d308-70b1-4ce3-99b8-17074520ef4f",
   "metadata": {},
   "outputs": [
    {
     "name": "stdout",
     "output_type": "stream",
     "text": [
      "8\n",
      "16\n",
      "8\n",
      "64\n",
      "8.0\n",
      "0.0\n"
     ]
    }
   ],
   "source": [
    "# 2. Perform various assignment operations on a variable.\n",
    "\n",
    "a = 8  # equal to assignment operator\n",
    "print(a)\n",
    "a += 8  #  arithmatic assignment operator\n",
    "print(a)\n",
    "a -= 8  #  arithmatic  assignment operator\n",
    "print(a)\n",
    "a *= 8  #  arithmatic assignment operator\n",
    "print(a)\n",
    "a /= 8  #  arithmatic assignment operator\n",
    "print(a)\n",
    "a %= 8  #  arithmatic assignment operator\n",
    "print(a)\n"
   ]
  },
  {
   "cell_type": "code",
   "execution_count": 4,
   "id": "5fa07021-79ff-4584-91f4-d89afbb9a240",
   "metadata": {},
   "outputs": [
    {
     "name": "stdout",
     "output_type": "stream",
     "text": [
      "8\n"
     ]
    }
   ],
   "source": [
    "# 3. Compare two nnmbers and print the results.\n",
    "\n",
    "a = 8\n",
    "b = 5\n",
    "if(a > b):\n",
    "    print(a)\n",
    "else:\n",
    "    print(b)"
   ]
  },
  {
   "cell_type": "code",
   "execution_count": 6,
   "id": "d8118fba-92e6-474b-a446-a8f2a0b568ca",
   "metadata": {},
   "outputs": [
    {
     "name": "stdout",
     "output_type": "stream",
     "text": [
      "true\n",
      "true\n"
     ]
    }
   ],
   "source": [
    "# 4. Check conditions using logical operators.\n",
    "\n",
    "a = 2\n",
    "b = 2\n",
    "c = 3\n",
    "if( a == 2 and b == 2) :\n",
    "    print(\"true\")\n",
    "if( a==2 or b == 2):\n",
    "    print(\"true\")\n",
    "    "
   ]
  },
  {
   "cell_type": "code",
   "execution_count": 7,
   "id": "3325f3b5-3f2e-40d3-bef7-6b2f7921aa38",
   "metadata": {},
   "outputs": [
    {
     "data": {
      "text/plain": [
       "139756494045456"
      ]
     },
     "execution_count": 7,
     "metadata": {},
     "output_type": "execute_result"
    }
   ],
   "source": [
    "#5. Check the identity of variables.\n",
    "\n",
    "z = 2\n",
    "id(z)"
   ]
  },
  {
   "cell_type": "code",
   "execution_count": 11,
   "id": "076875cf-070c-4e74-9a84-74f8b11663c4",
   "metadata": {},
   "outputs": [
    {
     "name": "stdout",
     "output_type": "stream",
     "text": [
      "0\n",
      "12\n",
      "12\n",
      "-9\n",
      "0\n",
      "128\n"
     ]
    }
   ],
   "source": [
    "#6. Perform bitwise operations on any two integers.\n",
    "\n",
    "q = 8\n",
    "print(q & 4)    #bitwise and operator  \n",
    "print(q | 4)    #bitwise or operator\n",
    "print(q ^ 4)    #bitwise xor operator\n",
    "print( ~q )    #bitwise not operator\n",
    "print(q >> 4)    #bitwise right shift operator\n",
    "print(q << 4)    #bitwise left shift operator"
   ]
  },
  {
   "cell_type": "code",
   "execution_count": 12,
   "id": "b15a7ed6-a33b-4c87-8342-dc5396c4c83b",
   "metadata": {},
   "outputs": [
    {
     "name": "stdout",
     "output_type": "stream",
     "text": [
      "-5\n"
     ]
    }
   ],
   "source": [
    "#7. Use unary operators to change the sign of a number.\n",
    "\n",
    "a = 5\n",
    "a = -a\n",
    "print(a)"
   ]
  },
  {
   "cell_type": "code",
   "execution_count": 13,
   "id": "75ce1077-502c-4b4e-ab2d-89bb4b910a22",
   "metadata": {},
   "outputs": [],
   "source": [
    "# 8. Use the ternary operator to assign values based on conditions.\n",
    "\n",
    "a = 6\n",
    "b = 7\n",
    "if b>a:\n",
    "    var = b - a\n",
    "else:\n",
    "    var = a + b\n",
    "p"
   ]
  },
  {
   "cell_type": "code",
   "execution_count": null,
   "id": "217f6ed4-50e9-46be-9ffa-e179b3686e1d",
   "metadata": {},
   "outputs": [],
   "source": []
  }
 ],
 "metadata": {
  "kernelspec": {
   "display_name": "Python 3 (ipykernel)",
   "language": "python",
   "name": "python3"
  },
  "language_info": {
   "codemirror_mode": {
    "name": "ipython",
    "version": 3
   },
   "file_extension": ".py",
   "mimetype": "text/x-python",
   "name": "python",
   "nbconvert_exporter": "python",
   "pygments_lexer": "ipython3",
   "version": "3.10.8"
  }
 },
 "nbformat": 4,
 "nbformat_minor": 5
}
