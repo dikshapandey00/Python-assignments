{
 "cells": [
  {
   "cell_type": "code",
   "execution_count": 3,
   "id": "225d4584-3c9e-4b44-8e50-b8dfc3aaeb18",
   "metadata": {},
   "outputs": [
    {
     "name": "stdout",
     "output_type": "stream",
     "text": [
      "\n",
      "Sum = 55\n"
     ]
    }
   ],
   "source": [
    "# 2.  Calclate the sum of nmber from 1 to 10 ing a while loop.\n",
    "\n",
    "sum = 0\n",
    "i = 1\n",
    "while i<=10:\n",
    "  sum = sum+i\n",
    "  i = i+1\n",
    "\n",
    "print(\"\\nSum =\", sum)"
   ]
  },
  {
   "cell_type": "code",
   "execution_count": 6,
   "id": "d4ee82ba-cffe-4152-8f7d-3365f225a392",
   "metadata": {},
   "outputs": [
    {
     "name": "stdout",
     "output_type": "stream",
     "text": [
      "1\n",
      "2\n",
      "3\n",
      "4\n",
      "5\n"
     ]
    }
   ],
   "source": [
    "# 1. Print nmber from 1 to 5 ing a while loop\n",
    "\n",
    "n = 1\n",
    "while n < 6:\n",
    "    print(n)\n",
    "    n +=1"
   ]
  },
  {
   "cell_type": "code",
   "execution_count": 8,
   "id": "c90e92e7-70dd-4d74-a3e2-c9175feeaab5",
   "metadata": {},
   "outputs": [
    {
     "name": "stdin",
     "output_type": "stream",
     "text": [
      "enter num:  6\n"
     ]
    },
    {
     "name": "stdout",
     "output_type": "stream",
     "text": [
      "720\n"
     ]
    }
   ],
   "source": [
    "# 3. Calclate the factorial of a nmber using a for loop.\n",
    "n = int(input(\"enter num: \"))\n",
    "fact = 1\n",
    "for i in range(1 ,n + 1):\n",
    "    fact *= i;\n",
    "print(fact)"
   ]
  },
  {
   "cell_type": "code",
   "execution_count": 13,
   "id": "80e36a7e-5872-46a8-87f9-1997d4635a0f",
   "metadata": {},
   "outputs": [
    {
     "name": "stdin",
     "output_type": "stream",
     "text": [
      "enter string:  AEIou\n"
     ]
    },
    {
     "name": "stdout",
     "output_type": "stream",
     "text": [
      "5\n"
     ]
    }
   ],
   "source": [
    "#4. Count the number of vowel in a string using a for loop.\n",
    "\n",
    "s = str(input(\"enter string: \"))\n",
    "n = len(s)\n",
    "count = 0\n",
    "for i in range(n):\n",
    "    if (s[i] == \"a\" or  s[i] == \"e\" or s[i] == \"i\" or s[i] == \"o\" or s[i] == \"u\" or s[i] == \"A\" or s[i] == \"E\" or s[i] == \"I\" or s[i] == \"O\" or s[i] == \"U\"):\n",
    "        count +=1\n",
    "    else:\n",
    "        continue\n",
    "print(count)"
   ]
  },
  {
   "cell_type": "code",
   "execution_count": 3,
   "id": "30030055-eb51-431b-8e6f-0e1fb131d688",
   "metadata": {},
   "outputs": [
    {
     "name": "stdout",
     "output_type": "stream",
     "text": [
      "*\n",
      "**\n",
      "***\n",
      "****\n"
     ]
    }
   ],
   "source": [
    "# 5. Print a pattern using nested loop.\n",
    "\n",
    "for i in range(1, 5):\n",
    "    for j in range(1, i+1):\n",
    "        print(\"*\" ,end=\"\")\n",
    "    print()"
   ]
  },
  {
   "cell_type": "code",
   "execution_count": null,
   "id": "4bcfef61-0d2c-4da2-b500-adff3f41661d",
   "metadata": {},
   "outputs": [],
   "source": [
    "# 6. Generate a multiplication table using neted loop.\n",
    "\n",
    "for i in range(1,11):\n",
    "    print(\"2 *\", i, \" =\")"
   ]
  }
 ],
 "metadata": {
  "kernelspec": {
   "display_name": "Python 3 (ipykernel)",
   "language": "python",
   "name": "python3"
  },
  "language_info": {
   "codemirror_mode": {
    "name": "ipython",
    "version": 3
   },
   "file_extension": ".py",
   "mimetype": "text/x-python",
   "name": "python",
   "nbconvert_exporter": "python",
   "pygments_lexer": "ipython3",
   "version": "3.10.8"
  }
 },
 "nbformat": 4,
 "nbformat_minor": 5
}
