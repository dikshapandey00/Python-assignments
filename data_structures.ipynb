{
  "nbformat": 4,
  "nbformat_minor": 0,
  "metadata": {
    "colab": {
      "provenance": [],
      "authorship_tag": "ABX9TyPB1QE8N7NaF1tD9y7fiQMC",
      "include_colab_link": true
    },
    "kernelspec": {
      "name": "python3",
      "display_name": "Python 3"
    },
    "language_info": {
      "name": "python"
    }
  },
  "cells": [
    {
      "cell_type": "markdown",
      "metadata": {
        "id": "view-in-github",
        "colab_type": "text"
      },
      "source": [
        "<a href=\"https://colab.research.google.com/github/dikshapandey00/Python-assignments/blob/data-structures-27-3-24/data_structures.ipynb\" target=\"_parent\"><img src=\"https://colab.research.google.com/assets/colab-badge.svg\" alt=\"Open In Colab\"/></a>"
      ]
    },
    {
      "cell_type": "markdown",
      "source": [
        "**1. Why might you choose a deque from the collections module to implement a queue instead of using a regular Python list?**\n",
        "\n",
        "**ANSWER -** <br>\n",
        "Deque is chose from collections to use rather than regular python list, since Deque provides extra functionalities<br>\n",
        "Deque are **double ended queue** , various operations can be performed on both ends of ,that is insertion and deletion can be done on both ends. This makes deque  **faster**  . <br>\n",
        "Deque are optimized for these operations. Hence gives **efficient** results.<br>\n",
        "Deque can have a maximum length, automatically discarding elements when full.\n",
        "Collections module provides various operations for deque which makes it to **perform additional operations**. Hence we should choose a deque from the collections module to implement queue\n"
      ],
      "metadata": {
        "id": "zadlG0tKtYrs"
      }
    },
    {
      "cell_type": "markdown",
      "source": [
        "**2.\tCan you explain a real-world scenario where using a stack would be a more practical choice than a list for data storage and retrieval?**\n",
        "\n",
        "**ANSWER-** <br>\n",
        "Stacks are linear data structure that works in **LIFO** (last in first out) order. Some real world example can be:<br>\n",
        "LIFO order – last entered or pushed objects are accessed first <br>\n",
        "**Undo operation** – if we want to undo any operations ,then we are asking for accessing last operation. Hence stack will be preferable choice, this can be used in various editing application <br>\n",
        "**Pushing pages(url) into stack**- Whenever we visit a new webpage, it gets pushed onto the stack. This means the URL or information about the page is added to the top of the stack.<br><br>\n",
        "\n",
        "So in cases like these stack would be more practical choice .\n"
      ],
      "metadata": {
        "id": "Hi8XmfqMuAWo"
      }
    },
    {
      "cell_type": "markdown",
      "source": [
        "**3.\tWhat is the primary advantage of using sets in Python, and in what type of problem-solving scenarios are they most useful?** <br>\n",
        "\n",
        "**ANSWER-** <br>\n",
        "Sets are unordered list, with unique elements <br>\n",
        "Some advantages- <br>\n",
        "*\t**Removing duplicates** from a list\n",
        "*\tWhen it is needed to **count unique** elements\n",
        "*\tWhen we want to do things like **find what's common** between two groups of things or see **what's different** in them\n",
        "*\tWhen we need to **work on unique** elements\n",
        "*\tWhen **redundant data** needs to be **avoided while taking input**, without an error <br>\n",
        "Sets provide commonly four operations –  **Union , Intersection, Difference and symmetric difference**\n"
      ],
      "metadata": {
        "id": "6Z5QJjrpunQh"
      }
    },
    {
      "cell_type": "markdown",
      "source": [
        "**4.\tWhen might you choose to use an array instead of a list for storing numerical data in Python? What benefits do arrays offer in this context?** <br>\n",
        "\n",
        "**ANSWER-** <br>\n",
        "Array should be chosen for numerical data because: <br>\n",
        "*\t**Memory efficient** – arrays stores data in contagious memory locations and all elements of arrays occupy same amount of memory\n",
        "*\t**Data types** – arrays are homogenous in nature, that is only one type of data can get stores in an array. Arrays are suitable for storing numerical data efficiently.\n",
        "*\t**Access time** - Accessing elements in an array is fast and efficient\n",
        "*\t**Performance** - Arrays generally offer better performance for numerical computations and operations that require fast element access due to their contiguous memory layout.\n",
        "*\tIntegration with **scientific computing libraries** like NumPy, which provide a wide range of optimized numerical operations on arrays <br>\n",
        "\n",
        "So, for numerical computing , arrays can be a more suitable choice than lists in Python.\n"
      ],
      "metadata": {
        "id": "jubleTAhvzdF"
      }
    },
    {
      "cell_type": "markdown",
      "source": [
        "**5.\tIn Python, what's the primary difference between dictionaries and lists, and how does this difference impact their use cases in programming?**\n",
        "<br>\n",
        "**ANSWER-**<br>\n",
        "**Dictionaries**\n",
        "* Unordered key – value pair as elements\n",
        "* Keys are immutable\n",
        "* Keys acts as index <br>\n",
        "\n",
        "**List**\n",
        "* Ordered collection of elements\n",
        "* Elements are mutable\n",
        "* Indexing is done from 0 to n elements\n",
        "<br>\n",
        "\n",
        "Lists are suitable for storing collections of items where the order matters, such as sequences of elements that need to be processed sequentially.\n",
        "Dictionaries are useful for mapping unique identifiers (keys) to associated values.\n"
      ],
      "metadata": {
        "id": "73pO2ltEwV4C"
      }
    },
    {
      "cell_type": "code",
      "source": [],
      "metadata": {
        "id": "Wmj-YSAHxAZS"
      },
      "execution_count": null,
      "outputs": []
    }
  ]
}