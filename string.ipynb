{
  "nbformat": 4,
  "nbformat_minor": 0,
  "metadata": {
    "colab": {
      "provenance": [],
      "authorship_tag": "ABX9TyN+4VJ6VRpp4HdQmWlwE3wJ",
      "include_colab_link": true
    },
    "kernelspec": {
      "name": "python3",
      "display_name": "Python 3"
    },
    "language_info": {
      "name": "python"
    }
  },
  "cells": [
    {
      "cell_type": "markdown",
      "metadata": {
        "id": "view-in-github",
        "colab_type": "text"
      },
      "source": [
        "<a href=\"https://colab.research.google.com/github/dikshapandey00/Python-assignments/blob/main/string.ipynb\" target=\"_parent\"><img src=\"https://colab.research.google.com/assets/colab-badge.svg\" alt=\"Open In Colab\"/></a>"
      ]
    },
    {
      "cell_type": "markdown",
      "source": [
        "**1.\tWhat is the purpose of the len() function in Python, and how can it be used with strings?** <br>\n",
        "\n",
        "**ANSWER-** <br>\n",
        "len() is an inbuilt function of Python, it is used for **finding the length of a sequence**, such as a string, list, tuple, or dictionary. <br>\n",
        "For strings  , len() function returns **number of characters** present in strings.<br>\n",
        "\n",
        "Use with string –\n",
        "\n",
        "**CODE -**\n"
      ],
      "metadata": {
        "id": "B1FYsLVGyu_f"
      }
    },
    {
      "cell_type": "code",
      "source": [
        "name = \"diksha pandey\"\n",
        "Length = len(name)\n",
        "print(Length)"
      ],
      "metadata": {
        "colab": {
          "base_uri": "https://localhost:8080/"
        },
        "id": "qvNl3zsszJiS",
        "outputId": "6b8b4b2e-7997-468a-b4c8-1832a1055696"
      },
      "execution_count": null,
      "outputs": [
        {
          "output_type": "stream",
          "name": "stdout",
          "text": [
            "13\n"
          ]
        }
      ]
    },
    {
      "cell_type": "markdown",
      "source": [
        "**2.\tHow can you concatenate two or more strings in Python, and can you provide an example of string concatenation?** <br>\n",
        "\n",
        "**ANSWER-** <br>\n",
        "Strings in Python can be concatenated using the **+ operator**. This operation joins two or more strings together to form a new string.<br>\n",
        "\n",
        "**CODE-**\n",
        "\n",
        "```\n",
        "Firstname = “Diksha”\n",
        "Lastname= “Pandey”\n",
        "print(Firstname + Lastname)\n",
        "```\n",
        "\n",
        "\n"
      ],
      "metadata": {
        "id": "vbFGrkW50GPm"
      }
    },
    {
      "cell_type": "code",
      "source": [
        "Firstname = \"diksha\"\n",
        "Lastname= \"pandey\"\n",
        "print(Firstname + Lastname)"
      ],
      "metadata": {
        "colab": {
          "base_uri": "https://localhost:8080/"
        },
        "id": "fSRhhMp50rlQ",
        "outputId": "9d09475a-04ad-42be-dccb-cd02ae3401aa"
      },
      "execution_count": null,
      "outputs": [
        {
          "output_type": "stream",
          "name": "stdout",
          "text": [
            "dikshapandey\n"
          ]
        }
      ]
    },
    {
      "cell_type": "markdown",
      "source": [
        "**3.\tWhat is string slicing in Python, and how can you extract a portion of a string using this method?**\n",
        "<br>\n",
        "**ANSWER-** <br>\n",
        "String slicing is a way in python to extract a substring from a larger string by mentioning specific parameters as per of requirements.<br>\n",
        "The  range is mentioned between ‘[ ]’ <br>\n",
        "Format – **stringname[start, end, step]** <br>\n",
        "\n",
        "*\t**Start-** starting index of substring. Default value is first element of string\n",
        "*\t**End-** ending index of substring. Default value is last element of string\n",
        "*\t**Step-** step size or increment for selecting characters. It specifies how many characters to skip between successive characters. The default value is 1.\n",
        "<br>\n",
        "**CODE-**\n",
        "\n",
        "```\n",
        "name = \"Diksha Pandey”\n",
        "first = name[0:7]\n",
        "print(first)\n",
        "```\n"
      ],
      "metadata": {
        "id": "lDUYXZYX076B"
      }
    },
    {
      "cell_type": "code",
      "source": [
        "name = \"Diksha Pandey\"\n",
        "first = name[0:7]\n",
        "print(first)"
      ],
      "metadata": {
        "colab": {
          "base_uri": "https://localhost:8080/"
        },
        "id": "fcZaqa4y1pON",
        "outputId": "d687fcee-3e97-426f-cec2-6ed28efff150"
      },
      "execution_count": null,
      "outputs": [
        {
          "output_type": "stream",
          "name": "stdout",
          "text": [
            "Diksha \n"
          ]
        }
      ]
    },
    {
      "cell_type": "markdown",
      "source": [
        "**4.\tHow can you change the case of a string in Python, and can you provide examples of both making a string all uppercase and all lowercase?** <br>\n",
        "\n",
        "**ANSWER-** <br>\n",
        "In Python, we can change the case of a string using the upper() method to convert the string to uppercase and the lower() method to convert the string to lowercase. <br>\n",
        "\n",
        "Example- <br>\n",
        "**Converting a string to all uppercase:**\n",
        "\n",
        "**CODE -** <br>\n",
        "\n",
        "```\n",
        "name = \"Diksha Pandey”\n",
        "uppercase_string = name.upper()\n",
        "print(uppercase_string)\n",
        "```\n",
        "\n",
        "\n",
        "\n",
        "**Output:**\n",
        "DIKSHA PANDEY\n",
        "\n",
        "**Converting a string to all lowercase:**\n",
        "\n",
        "**CODE -** <br>\n",
        "```\n",
        "name = \"Diksha Pandey”\n",
        "lowercase_string = name.lower()\n",
        "print(lowercase_string)\n",
        "```\n",
        "**Output:**\n",
        "diksha pandey\n"
      ],
      "metadata": {
        "id": "bOja5Tws2GL7"
      }
    },
    {
      "cell_type": "code",
      "source": [
        "name = \"Diksha Pandey\"\n",
        "print(name.upper())\n",
        "print(name.lower())"
      ],
      "metadata": {
        "colab": {
          "base_uri": "https://localhost:8080/"
        },
        "id": "ydpmObag1t3R",
        "outputId": "1c6ca610-61ad-493f-b09d-ee2f6b4b0ede"
      },
      "execution_count": null,
      "outputs": [
        {
          "output_type": "stream",
          "name": "stdout",
          "text": [
            "DIKSHA PANDEY\n",
            "diksha pandey\n"
          ]
        }
      ]
    },
    {
      "cell_type": "markdown",
      "source": [
        "**5.\tWhat does the split() method do in Python, and how can you split a string using a specific delimiter?** <br>\n",
        "\n",
        "**ANSWER-** <br>\n",
        "The split() method in Python is used to **split a string into a list of substrings based on a specified separator.** The syntax for the split() method is: <br>\n",
        "\n",
        "**string.split(separator, maxsplit)** <br>\n",
        "\n",
        "*\t**string** is the string to be split.\n",
        "*\t**separator** (optional) is the character/symbol string used to specify from where to split the string. If not provided, whitespace characters (space, tab, newline, etc.) are used as the default separator.\n",
        "*\t**maxsplit** (optional) is the maximum number of splits to perform. If specified, the string is split at most maxsplit - 1 times. The default value is -1, meaning there is no limit on the number of splits. <br>\n",
        "\n",
        "**CODE-** <br>\n",
        "\n",
        "\n",
        "```\n",
        "date = \"01-08-2003\"\n",
        "parts = date.split(\"-\")\n",
        "print(parts)\n",
        "```\n",
        "\n",
        "**OUTPUT –** <br>\n",
        "\n",
        "['01', '08', '2003']\n"
      ],
      "metadata": {
        "id": "hHiaVM6Z3pQr"
      }
    },
    {
      "cell_type": "code",
      "source": [
        "date = \"01-08-2003\"\n",
        "parts = date.split(\"-\")\n",
        "print(parts)"
      ],
      "metadata": {
        "colab": {
          "base_uri": "https://localhost:8080/"
        },
        "id": "sA5tbArX47ZD",
        "outputId": "3edba676-7715-4c94-d324-139c6d8e5cf1"
      },
      "execution_count": null,
      "outputs": [
        {
          "output_type": "stream",
          "name": "stdout",
          "text": [
            "['01', '08', '2003']\n"
          ]
        }
      ]
    },
    {
      "cell_type": "code",
      "source": [],
      "metadata": {
        "id": "FKyQ2U3c4_5B"
      },
      "execution_count": null,
      "outputs": []
    }
  ]
}