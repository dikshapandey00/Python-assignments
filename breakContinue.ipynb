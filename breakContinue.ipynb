{
 "cells": [
  {
   "cell_type": "code",
   "execution_count": 1,
   "id": "3aae145a-96f4-4da3-b9cf-05e3b6fc0ebc",
   "metadata": {},
   "outputs": [],
   "source": [
    "# Write a program to print numbers from  to 0, but stop if the number is 5.\n",
    "# . Write a program to iterate through a list and stop when encountering a specific element.\n",
    "# E Write a program to skip printing even numbers from  to 0.\n",
    "# W Write a program to print numbers from 0 to 9 using rangeXF.\n",
    "# l Write a program to print multiplication tables from  to 5, but stop after the first table is printed for each\n",
    "# number.\n",
    "#  Write a program to skip printing even numbers using a while loop."
   ]
  },
  {
   "cell_type": "code",
   "execution_count": 2,
   "id": "ebfca102-3c7a-4eb0-bcbb-6eea48e15bf9",
   "metadata": {},
   "outputs": [
    {
     "name": "stdout",
     "output_type": "stream",
     "text": [
      "1\n",
      "2\n",
      "3\n",
      "4\n"
     ]
    }
   ],
   "source": [
    "# 1. Write a program to print numbers from 1 to 10, but stop if the number is 5.\n",
    "\n",
    "for i in range(1,11):\n",
    "    if i == 5:\n",
    "        break\n",
    "    else:\n",
    "        print(i)"
   ]
  },
  {
   "cell_type": "code",
   "execution_count": 3,
   "id": "3f95badc-3530-4d58-9a8c-d87dc409f567",
   "metadata": {},
   "outputs": [
    {
     "name": "stdout",
     "output_type": "stream",
     "text": [
      "1\n",
      "5\n",
      "9\n"
     ]
    }
   ],
   "source": [
    "# 2. Write a program to iterate through a list and stop when encountering a specific element.\n",
    "\n",
    "l = [1, 5, 9, 11, 13, 15]\n",
    "for i in range (0, len(l) - 1):\n",
    "    if l[i] == 11:\n",
    "        break\n",
    "    else:\n",
    "        print(l[i])"
   ]
  },
  {
   "cell_type": "code",
   "execution_count": 8,
   "id": "7d54a293-d0a0-4f5b-ba6c-8e296ee9f8d5",
   "metadata": {},
   "outputs": [
    {
     "name": "stdout",
     "output_type": "stream",
     "text": [
      "1\n",
      "3\n",
      "5\n",
      "7\n",
      "9\n"
     ]
    }
   ],
   "source": [
    "# 3. Write a program to skip printing even numbers from 1 to 10.\n",
    "\n",
    "for i in range(0 ,10):\n",
    "    i = i + 1\n",
    "    if i % 2 == 0:\n",
    "        continue\n",
    "    print(i)"
   ]
  },
  {
   "cell_type": "code",
   "execution_count": 10,
   "id": "54b27b3e-5b8a-4d04-8784-89c30f621f20",
   "metadata": {},
   "outputs": [
    {
     "name": "stdout",
     "output_type": "stream",
     "text": [
      "1\n",
      "2\n",
      "3\n",
      "4\n",
      "5\n",
      "6\n",
      "7\n",
      "8\n",
      "9\n"
     ]
    }
   ],
   "source": [
    "# 4. Write a program to print numbers from 0 to 9 using range().\n",
    "\n",
    "i = 1\n",
    "while True:\n",
    "    if i == 10:\n",
    "        break\n",
    "    print(i)\n",
    "    i = i + 1"
   ]
  },
  {
   "cell_type": "code",
   "execution_count": 5,
   "id": "4ce10bb2-0595-49ff-8078-bfa22ef2892f",
   "metadata": {},
   "outputs": [
    {
     "name": "stdout",
     "output_type": "stream",
     "text": [
      "table of  1\n",
      "1 2 3 4 5 6 7 8 9 10 \n",
      "table of  2\n",
      "2 4 6 8 10 12 14 16 18 20 \n",
      "table of  3\n",
      "3 6 9 12 15 18 21 24 27 30 \n",
      "table of  4\n",
      "4 8 12 16 20 24 28 32 36 40 \n",
      "table of  5\n",
      "5 10 15 20 25 30 35 40 45 50 \n"
     ]
    }
   ],
   "source": [
    "# 5. Write a program to print multiplication tables from  to 5, but stop after the first table is printed for each num\n",
    "\n",
    "for i in range(1, 6):\n",
    "    print(\"table of \", i)\n",
    "    for j in range(1, 11):\n",
    "        print(i * j, end=\" \")\n",
    "    print()"
   ]
  },
  {
   "cell_type": "code",
   "execution_count": 7,
   "id": "94dc3b67-cbc2-4fe5-a3d0-e20baca841d5",
   "metadata": {},
   "outputs": [
    {
     "name": "stdout",
     "output_type": "stream",
     "text": [
      "1\n",
      "3\n",
      "5\n",
      "7\n",
      "9\n"
     ]
    }
   ],
   "source": [
    "# Write a program to skip printing even numbers using a while loop.\n",
    "\n",
    "i = 0\n",
    "while i < 10:\n",
    "    i += 1\n",
    "    if i % 2 == 0:\n",
    "        continue\n",
    "    print(i)"
   ]
  },
  {
   "cell_type": "code",
   "execution_count": null,
   "id": "f7d32d01-c44c-46d1-ae8d-785ec903a76c",
   "metadata": {},
   "outputs": [],
   "source": []
  }
 ],
 "metadata": {
  "kernelspec": {
   "display_name": "Python 3 (ipykernel)",
   "language": "python",
   "name": "python3"
  },
  "language_info": {
   "codemirror_mode": {
    "name": "ipython",
    "version": 3
   },
   "file_extension": ".py",
   "mimetype": "text/x-python",
   "name": "python",
   "nbconvert_exporter": "python",
   "pygments_lexer": "ipython3",
   "version": "3.10.8"
  }
 },
 "nbformat": 4,
 "nbformat_minor": 5
}
