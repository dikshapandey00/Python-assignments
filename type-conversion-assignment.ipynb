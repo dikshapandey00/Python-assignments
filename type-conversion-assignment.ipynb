{
 "cells": [
  {
   "cell_type": "code",
   "execution_count": 16,
   "id": "f53231fd-795a-4e26-9ffa-3d9d04bdd415",
   "metadata": {},
   "outputs": [
    {
     "name": "stdout",
     "output_type": "stream",
     "text": [
      "4.0\n"
     ]
    }
   ],
   "source": [
    "# 1. Covert a iteger to a floatig-poit umber.\n",
    "\n",
    "\n",
    "a = 4\n",
    "a = float(a)\n",
    "print(a)"
   ]
  },
  {
   "cell_type": "code",
   "execution_count": 15,
   "id": "3e8c7d52-41dc-41e0-817d-1a2dae833b71",
   "metadata": {},
   "outputs": [
    {
     "name": "stdout",
     "output_type": "stream",
     "text": [
      "4\n"
     ]
    }
   ],
   "source": [
    "# 2. Covert a float to a iteger.\n",
    "\n",
    "b = 4.08\n",
    "b = int(b)\n",
    "print(b)"
   ]
  },
  {
   "cell_type": "code",
   "execution_count": 9,
   "id": "1011597b-a252-40b7-8ca1-9718566a67c9",
   "metadata": {},
   "outputs": [
    {
     "name": "stdout",
     "output_type": "stream",
     "text": [
      "4\n",
      "<class 'str'>\n"
     ]
    }
   ],
   "source": [
    "# 3. Covert a iteger to a strig.\n",
    "\n",
    "c = 4\n",
    "c = str(c)\n",
    "print(c)\n",
    "print(type(c))"
   ]
  },
  {
   "cell_type": "code",
   "execution_count": 10,
   "id": "f6bdfcb6-9377-402c-9b2b-5f0eace0bd2a",
   "metadata": {},
   "outputs": [
    {
     "name": "stdout",
     "output_type": "stream",
     "text": [
      "(1, 2, 3, 4, 6)\n"
     ]
    }
   ],
   "source": [
    "# 4. Covert a list to a tuple.\n",
    "\n",
    "l = [1, 2, 3, 4, 6]\n",
    "l = tuple(l)\n",
    "print(l)"
   ]
  },
  {
   "cell_type": "code",
   "execution_count": 11,
   "id": "8fba9961-6cb9-4aab-8eaa-0ea0064c49ff",
   "metadata": {},
   "outputs": [
    {
     "name": "stdout",
     "output_type": "stream",
     "text": [
      "[1, 2, 3, 4, 5]\n"
     ]
    }
   ],
   "source": [
    "# 5.  Covert a tuple to a list.\n",
    "\n",
    "t = (1, 2, 3, 4, 5)\n",
    "t = list(t)\n",
    "print(t)"
   ]
  },
  {
   "cell_type": "code",
   "execution_count": 13,
   "id": "403ea1eb-95d1-4762-8ac3-2dc6f670d9f5",
   "metadata": {},
   "outputs": [
    {
     "name": "stdout",
     "output_type": "stream",
     "text": [
      "0b110010010\n"
     ]
    }
   ],
   "source": [
    "# 6. Covert a decimal number to biary.\n",
    "\n",
    "n = 402\n",
    "n = bin(n)\n",
    "print(n)"
   ]
  },
  {
   "cell_type": "code",
   "execution_count": 14,
   "id": "63ab8ad6-584f-4f46-ad43-8298a66bbddc",
   "metadata": {},
   "outputs": [
    {
     "name": "stdout",
     "output_type": "stream",
     "text": [
      "True\n"
     ]
    }
   ],
   "source": [
    "# 7. covert a non-zero number to boolean.\n",
    "\n",
    "nz = 5\n",
    "nz = bool(nz)\n",
    "print(nz)"
   ]
  }
 ],
 "metadata": {
  "kernelspec": {
   "display_name": "Python 3 (ipykernel)",
   "language": "python",
   "name": "python3"
  },
  "language_info": {
   "codemirror_mode": {
    "name": "ipython",
    "version": 3
   },
   "file_extension": ".py",
   "mimetype": "text/x-python",
   "name": "python",
   "nbconvert_exporter": "python",
   "pygments_lexer": "ipython3",
   "version": "3.10.8"
  }
 },
 "nbformat": 4,
 "nbformat_minor": 5
}
